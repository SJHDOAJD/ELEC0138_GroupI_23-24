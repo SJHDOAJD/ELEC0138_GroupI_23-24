{
 "cells": [
  {
   "cell_type": "markdown",
   "id": "8cf5a75a",
   "metadata": {},
   "source": [
    "### Import Modules"
   ]
  },
  {
   "cell_type": "code",
   "execution_count": 1,
   "id": "857a36ed",
   "metadata": {},
   "outputs": [],
   "source": [
    "import pandas as pd\n",
    "import numpy as np\n",
    "import matplotlib.pyplot as plt\n",
    "import missingno as msno\n",
    "from sklearn import preprocessing\n",
    "from sklearn.preprocessing import MinMaxScaler\n",
    "from sklearn.model_selection import train_test_split\n",
    "import tensorflow as tf\n",
    "from tensorflow import keras\n",
    "from tensorflow.keras import layers\n",
    "from tensorflow.keras.layers import Dense\n",
    "from sklearn import metrics\n",
    "from sklearn.model_selection import cross_val_score\n",
    "from sklearn.metrics import classification_report\n",
    "from sklearn.model_selection import RandomizedSearchCV, GridSearchCV\n",
    "from sklearn.model_selection import StratifiedKFold\n",
    "from sklearn import tree\n",
    "from sklearn.neighbors import KNeighborsClassifier\n",
    "from sklearn.svm import SVC\n",
    "from sklearn.tree import DecisionTreeClassifier\n",
    "from sklearn.ensemble import RandomForestClassifier\n",
    "from sklearn.linear_model import SGDClassifier\n",
    "from sklearn.ensemble import AdaBoostClassifier\n",
    "import xgboost as xgb"
   ]
  },
  {
   "cell_type": "code",
   "execution_count": 2,
   "id": "59616903",
   "metadata": {},
   "outputs": [
    {
     "data": {
      "text/html": [
       "<div>\n",
       "<style scoped>\n",
       "    .dataframe tbody tr th:only-of-type {\n",
       "        vertical-align: middle;\n",
       "    }\n",
       "\n",
       "    .dataframe tbody tr th {\n",
       "        vertical-align: top;\n",
       "    }\n",
       "\n",
       "    .dataframe thead th {\n",
       "        text-align: right;\n",
       "    }\n",
       "</style>\n",
       "<table border=\"1\" class=\"dataframe\">\n",
       "  <thead>\n",
       "    <tr style=\"text-align: right;\">\n",
       "      <th></th>\n",
       "      <th>dt</th>\n",
       "      <th>switch</th>\n",
       "      <th>src</th>\n",
       "      <th>dst</th>\n",
       "      <th>pktcount</th>\n",
       "      <th>bytecount</th>\n",
       "      <th>dur</th>\n",
       "      <th>dur_nsec</th>\n",
       "      <th>tot_dur</th>\n",
       "      <th>flows</th>\n",
       "      <th>...</th>\n",
       "      <th>pktrate</th>\n",
       "      <th>Pairflow</th>\n",
       "      <th>Protocol</th>\n",
       "      <th>port_no</th>\n",
       "      <th>tx_bytes</th>\n",
       "      <th>rx_bytes</th>\n",
       "      <th>tx_kbps</th>\n",
       "      <th>rx_kbps</th>\n",
       "      <th>tot_kbps</th>\n",
       "      <th>label</th>\n",
       "    </tr>\n",
       "  </thead>\n",
       "  <tbody>\n",
       "    <tr>\n",
       "      <th>0</th>\n",
       "      <td>11425</td>\n",
       "      <td>1</td>\n",
       "      <td>10.0.0.1</td>\n",
       "      <td>10.0.0.8</td>\n",
       "      <td>45304</td>\n",
       "      <td>48294064</td>\n",
       "      <td>100</td>\n",
       "      <td>716000000</td>\n",
       "      <td>1.010000e+11</td>\n",
       "      <td>3</td>\n",
       "      <td>...</td>\n",
       "      <td>451</td>\n",
       "      <td>0</td>\n",
       "      <td>UDP</td>\n",
       "      <td>3</td>\n",
       "      <td>143928631</td>\n",
       "      <td>3917</td>\n",
       "      <td>0</td>\n",
       "      <td>0.0</td>\n",
       "      <td>0.0</td>\n",
       "      <td>0</td>\n",
       "    </tr>\n",
       "    <tr>\n",
       "      <th>1</th>\n",
       "      <td>11605</td>\n",
       "      <td>1</td>\n",
       "      <td>10.0.0.1</td>\n",
       "      <td>10.0.0.8</td>\n",
       "      <td>126395</td>\n",
       "      <td>134737070</td>\n",
       "      <td>280</td>\n",
       "      <td>734000000</td>\n",
       "      <td>2.810000e+11</td>\n",
       "      <td>2</td>\n",
       "      <td>...</td>\n",
       "      <td>451</td>\n",
       "      <td>0</td>\n",
       "      <td>UDP</td>\n",
       "      <td>4</td>\n",
       "      <td>3842</td>\n",
       "      <td>3520</td>\n",
       "      <td>0</td>\n",
       "      <td>0.0</td>\n",
       "      <td>0.0</td>\n",
       "      <td>0</td>\n",
       "    </tr>\n",
       "    <tr>\n",
       "      <th>2</th>\n",
       "      <td>11425</td>\n",
       "      <td>1</td>\n",
       "      <td>10.0.0.2</td>\n",
       "      <td>10.0.0.8</td>\n",
       "      <td>90333</td>\n",
       "      <td>96294978</td>\n",
       "      <td>200</td>\n",
       "      <td>744000000</td>\n",
       "      <td>2.010000e+11</td>\n",
       "      <td>3</td>\n",
       "      <td>...</td>\n",
       "      <td>451</td>\n",
       "      <td>0</td>\n",
       "      <td>UDP</td>\n",
       "      <td>1</td>\n",
       "      <td>3795</td>\n",
       "      <td>1242</td>\n",
       "      <td>0</td>\n",
       "      <td>0.0</td>\n",
       "      <td>0.0</td>\n",
       "      <td>0</td>\n",
       "    </tr>\n",
       "    <tr>\n",
       "      <th>3</th>\n",
       "      <td>11425</td>\n",
       "      <td>1</td>\n",
       "      <td>10.0.0.2</td>\n",
       "      <td>10.0.0.8</td>\n",
       "      <td>90333</td>\n",
       "      <td>96294978</td>\n",
       "      <td>200</td>\n",
       "      <td>744000000</td>\n",
       "      <td>2.010000e+11</td>\n",
       "      <td>3</td>\n",
       "      <td>...</td>\n",
       "      <td>451</td>\n",
       "      <td>0</td>\n",
       "      <td>UDP</td>\n",
       "      <td>2</td>\n",
       "      <td>3688</td>\n",
       "      <td>1492</td>\n",
       "      <td>0</td>\n",
       "      <td>0.0</td>\n",
       "      <td>0.0</td>\n",
       "      <td>0</td>\n",
       "    </tr>\n",
       "    <tr>\n",
       "      <th>4</th>\n",
       "      <td>11425</td>\n",
       "      <td>1</td>\n",
       "      <td>10.0.0.2</td>\n",
       "      <td>10.0.0.8</td>\n",
       "      <td>90333</td>\n",
       "      <td>96294978</td>\n",
       "      <td>200</td>\n",
       "      <td>744000000</td>\n",
       "      <td>2.010000e+11</td>\n",
       "      <td>3</td>\n",
       "      <td>...</td>\n",
       "      <td>451</td>\n",
       "      <td>0</td>\n",
       "      <td>UDP</td>\n",
       "      <td>3</td>\n",
       "      <td>3413</td>\n",
       "      <td>3665</td>\n",
       "      <td>0</td>\n",
       "      <td>0.0</td>\n",
       "      <td>0.0</td>\n",
       "      <td>0</td>\n",
       "    </tr>\n",
       "    <tr>\n",
       "      <th>5</th>\n",
       "      <td>11425</td>\n",
       "      <td>1</td>\n",
       "      <td>10.0.0.2</td>\n",
       "      <td>10.0.0.8</td>\n",
       "      <td>90333</td>\n",
       "      <td>96294978</td>\n",
       "      <td>200</td>\n",
       "      <td>744000000</td>\n",
       "      <td>2.010000e+11</td>\n",
       "      <td>3</td>\n",
       "      <td>...</td>\n",
       "      <td>451</td>\n",
       "      <td>0</td>\n",
       "      <td>UDP</td>\n",
       "      <td>1</td>\n",
       "      <td>3795</td>\n",
       "      <td>1402</td>\n",
       "      <td>0</td>\n",
       "      <td>0.0</td>\n",
       "      <td>0.0</td>\n",
       "      <td>0</td>\n",
       "    </tr>\n",
       "    <tr>\n",
       "      <th>6</th>\n",
       "      <td>11425</td>\n",
       "      <td>1</td>\n",
       "      <td>10.0.0.1</td>\n",
       "      <td>10.0.0.8</td>\n",
       "      <td>45304</td>\n",
       "      <td>48294064</td>\n",
       "      <td>100</td>\n",
       "      <td>716000000</td>\n",
       "      <td>1.010000e+11</td>\n",
       "      <td>3</td>\n",
       "      <td>...</td>\n",
       "      <td>451</td>\n",
       "      <td>0</td>\n",
       "      <td>UDP</td>\n",
       "      <td>4</td>\n",
       "      <td>3665</td>\n",
       "      <td>3413</td>\n",
       "      <td>0</td>\n",
       "      <td>0.0</td>\n",
       "      <td>0.0</td>\n",
       "      <td>0</td>\n",
       "    </tr>\n",
       "    <tr>\n",
       "      <th>7</th>\n",
       "      <td>11425</td>\n",
       "      <td>1</td>\n",
       "      <td>10.0.0.1</td>\n",
       "      <td>10.0.0.8</td>\n",
       "      <td>45304</td>\n",
       "      <td>48294064</td>\n",
       "      <td>100</td>\n",
       "      <td>716000000</td>\n",
       "      <td>1.010000e+11</td>\n",
       "      <td>3</td>\n",
       "      <td>...</td>\n",
       "      <td>451</td>\n",
       "      <td>0</td>\n",
       "      <td>UDP</td>\n",
       "      <td>1</td>\n",
       "      <td>3775</td>\n",
       "      <td>1492</td>\n",
       "      <td>0</td>\n",
       "      <td>0.0</td>\n",
       "      <td>0.0</td>\n",
       "      <td>0</td>\n",
       "    </tr>\n",
       "    <tr>\n",
       "      <th>8</th>\n",
       "      <td>11425</td>\n",
       "      <td>1</td>\n",
       "      <td>10.0.0.1</td>\n",
       "      <td>10.0.0.8</td>\n",
       "      <td>45304</td>\n",
       "      <td>48294064</td>\n",
       "      <td>100</td>\n",
       "      <td>716000000</td>\n",
       "      <td>1.010000e+11</td>\n",
       "      <td>3</td>\n",
       "      <td>...</td>\n",
       "      <td>451</td>\n",
       "      <td>0</td>\n",
       "      <td>UDP</td>\n",
       "      <td>2</td>\n",
       "      <td>3845</td>\n",
       "      <td>1402</td>\n",
       "      <td>0</td>\n",
       "      <td>0.0</td>\n",
       "      <td>0.0</td>\n",
       "      <td>0</td>\n",
       "    </tr>\n",
       "    <tr>\n",
       "      <th>9</th>\n",
       "      <td>11425</td>\n",
       "      <td>1</td>\n",
       "      <td>10.0.0.2</td>\n",
       "      <td>10.0.0.8</td>\n",
       "      <td>90333</td>\n",
       "      <td>96294978</td>\n",
       "      <td>200</td>\n",
       "      <td>744000000</td>\n",
       "      <td>2.010000e+11</td>\n",
       "      <td>3</td>\n",
       "      <td>...</td>\n",
       "      <td>451</td>\n",
       "      <td>0</td>\n",
       "      <td>UDP</td>\n",
       "      <td>4</td>\n",
       "      <td>354583059</td>\n",
       "      <td>4295</td>\n",
       "      <td>16578</td>\n",
       "      <td>0.0</td>\n",
       "      <td>16578.0</td>\n",
       "      <td>0</td>\n",
       "    </tr>\n",
       "  </tbody>\n",
       "</table>\n",
       "<p>10 rows × 23 columns</p>\n",
       "</div>"
      ],
      "text/plain": [
       "      dt  switch       src       dst  pktcount  bytecount  dur   dur_nsec  \\\n",
       "0  11425       1  10.0.0.1  10.0.0.8     45304   48294064  100  716000000   \n",
       "1  11605       1  10.0.0.1  10.0.0.8    126395  134737070  280  734000000   \n",
       "2  11425       1  10.0.0.2  10.0.0.8     90333   96294978  200  744000000   \n",
       "3  11425       1  10.0.0.2  10.0.0.8     90333   96294978  200  744000000   \n",
       "4  11425       1  10.0.0.2  10.0.0.8     90333   96294978  200  744000000   \n",
       "5  11425       1  10.0.0.2  10.0.0.8     90333   96294978  200  744000000   \n",
       "6  11425       1  10.0.0.1  10.0.0.8     45304   48294064  100  716000000   \n",
       "7  11425       1  10.0.0.1  10.0.0.8     45304   48294064  100  716000000   \n",
       "8  11425       1  10.0.0.1  10.0.0.8     45304   48294064  100  716000000   \n",
       "9  11425       1  10.0.0.2  10.0.0.8     90333   96294978  200  744000000   \n",
       "\n",
       "        tot_dur  flows  ...  pktrate  Pairflow  Protocol  port_no   tx_bytes  \\\n",
       "0  1.010000e+11      3  ...      451         0       UDP        3  143928631   \n",
       "1  2.810000e+11      2  ...      451         0       UDP        4       3842   \n",
       "2  2.010000e+11      3  ...      451         0       UDP        1       3795   \n",
       "3  2.010000e+11      3  ...      451         0       UDP        2       3688   \n",
       "4  2.010000e+11      3  ...      451         0       UDP        3       3413   \n",
       "5  2.010000e+11      3  ...      451         0       UDP        1       3795   \n",
       "6  1.010000e+11      3  ...      451         0       UDP        4       3665   \n",
       "7  1.010000e+11      3  ...      451         0       UDP        1       3775   \n",
       "8  1.010000e+11      3  ...      451         0       UDP        2       3845   \n",
       "9  2.010000e+11      3  ...      451         0       UDP        4  354583059   \n",
       "\n",
       "  rx_bytes  tx_kbps  rx_kbps  tot_kbps  label  \n",
       "0     3917        0      0.0       0.0      0  \n",
       "1     3520        0      0.0       0.0      0  \n",
       "2     1242        0      0.0       0.0      0  \n",
       "3     1492        0      0.0       0.0      0  \n",
       "4     3665        0      0.0       0.0      0  \n",
       "5     1402        0      0.0       0.0      0  \n",
       "6     3413        0      0.0       0.0      0  \n",
       "7     1492        0      0.0       0.0      0  \n",
       "8     1402        0      0.0       0.0      0  \n",
       "9     4295    16578      0.0   16578.0      0  \n",
       "\n",
       "[10 rows x 23 columns]"
      ]
     },
     "execution_count": 2,
     "metadata": {},
     "output_type": "execute_result"
    }
   ],
   "source": [
    "# Read the attact dataset\n",
    "df = pd.read_csv('DDOS.csv')\n",
    "df.head(10)"
   ]
  },
  {
   "cell_type": "markdown",
   "id": "1ad2fc7b",
   "metadata": {},
   "source": [
    "### Data Processing"
   ]
  },
  {
   "cell_type": "markdown",
   "id": "a5ded3e3",
   "metadata": {},
   "source": [
    "#### Size Of The Dataset"
   ]
  },
  {
   "cell_type": "code",
   "execution_count": 3,
   "id": "fd04f6fc",
   "metadata": {},
   "outputs": [
    {
     "name": "stdout",
     "output_type": "stream",
     "text": [
      "This Dataset size is 104345 rows and 23 columns\n"
     ]
    }
   ],
   "source": [
    "print(\"This Dataset size is {} rows and {} columns\".format(df.shape[0], df.shape[1]))"
   ]
  },
  {
   "cell_type": "markdown",
   "id": "803bea86",
   "metadata": {},
   "source": [
    "#### Dataset summary"
   ]
  },
  {
   "cell_type": "code",
   "execution_count": 4,
   "id": "d131b455",
   "metadata": {},
   "outputs": [
    {
     "name": "stdout",
     "output_type": "stream",
     "text": [
      "<class 'pandas.core.frame.DataFrame'>\n",
      "RangeIndex: 104345 entries, 0 to 104344\n",
      "Data columns (total 23 columns):\n",
      " #   Column       Non-Null Count   Dtype  \n",
      "---  ------       --------------   -----  \n",
      " 0   dt           104345 non-null  int64  \n",
      " 1   switch       104345 non-null  int64  \n",
      " 2   src          104345 non-null  object \n",
      " 3   dst          104345 non-null  object \n",
      " 4   pktcount     104345 non-null  int64  \n",
      " 5   bytecount    104345 non-null  int64  \n",
      " 6   dur          104345 non-null  int64  \n",
      " 7   dur_nsec     104345 non-null  int64  \n",
      " 8   tot_dur      104345 non-null  float64\n",
      " 9   flows        104345 non-null  int64  \n",
      " 10  packetins    104345 non-null  int64  \n",
      " 11  pktperflow   104345 non-null  int64  \n",
      " 12  byteperflow  104345 non-null  int64  \n",
      " 13  pktrate      104345 non-null  int64  \n",
      " 14  Pairflow     104345 non-null  int64  \n",
      " 15  Protocol     104345 non-null  object \n",
      " 16  port_no      104345 non-null  int64  \n",
      " 17  tx_bytes     104345 non-null  int64  \n",
      " 18  rx_bytes     104345 non-null  int64  \n",
      " 19  tx_kbps      104345 non-null  int64  \n",
      " 20  rx_kbps      103839 non-null  float64\n",
      " 21  tot_kbps     103839 non-null  float64\n",
      " 22  label        104345 non-null  int64  \n",
      "dtypes: float64(3), int64(17), object(3)\n",
      "memory usage: 18.3+ MB\n"
     ]
    }
   ],
   "source": [
    "df.info()"
   ]
  },
  {
   "cell_type": "markdown",
   "id": "2a56dd87",
   "metadata": {},
   "source": [
    "#### Check the number of the null values "
   ]
  },
  {
   "cell_type": "code",
   "execution_count": 5,
   "id": "4b169f16",
   "metadata": {},
   "outputs": [
    {
     "data": {
      "text/plain": [
       "dt               0\n",
       "switch           0\n",
       "src              0\n",
       "dst              0\n",
       "pktcount         0\n",
       "bytecount        0\n",
       "dur              0\n",
       "dur_nsec         0\n",
       "tot_dur          0\n",
       "flows            0\n",
       "packetins        0\n",
       "pktperflow       0\n",
       "byteperflow      0\n",
       "pktrate          0\n",
       "Pairflow         0\n",
       "Protocol         0\n",
       "port_no          0\n",
       "tx_bytes         0\n",
       "rx_bytes         0\n",
       "tx_kbps          0\n",
       "rx_kbps        506\n",
       "tot_kbps       506\n",
       "label            0\n",
       "dtype: int64"
      ]
     },
     "execution_count": 5,
     "metadata": {},
     "output_type": "execute_result"
    }
   ],
   "source": [
    "df.isnull().sum()"
   ]
  },
  {
   "cell_type": "markdown",
   "id": "fe62324e",
   "metadata": {},
   "source": [
    "#### Null values dropping"
   ]
  },
  {
   "cell_type": "code",
   "execution_count": 6,
   "id": "37b3ff55",
   "metadata": {},
   "outputs": [],
   "source": [
    "df.dropna(inplace=True)"
   ]
  },
  {
   "cell_type": "markdown",
   "id": "27f22a5e",
   "metadata": {},
   "source": [
    "#### Normal and attack flows distributions"
   ]
  },
  {
   "cell_type": "code",
   "execution_count": 7,
   "id": "520822ef",
   "metadata": {},
   "outputs": [
    {
     "name": "stdout",
     "output_type": "stream",
     "text": [
      "Percentages of the DDOS attacks : 39.01 %\n",
      "Percentages of the normal flows : 60.99 %\n"
     ]
    }
   ],
   "source": [
    "malign = df[df['label'] == 1]\n",
    "benign = df[df['label'] == 0]\n",
    "\n",
    "print('Percentages of the DDOS attacks :',round((len(malign)/df.shape[0])*100,2),'%')\n",
    "print('Percentages of the normal flows :',round((len(benign)/df.shape[0])*100,2),'%')"
   ]
  },
  {
   "cell_type": "markdown",
   "id": "dba10564",
   "metadata": {},
   "source": [
    "#### Columns in the dataset"
   ]
  },
  {
   "cell_type": "code",
   "execution_count": 8,
   "id": "f25a8cec",
   "metadata": {},
   "outputs": [
    {
     "data": {
      "text/plain": [
       "Index(['dt', 'switch', 'src', 'dst', 'pktcount', 'bytecount', 'dur',\n",
       "       'dur_nsec', 'tot_dur', 'flows', 'packetins', 'pktperflow',\n",
       "       'byteperflow', 'pktrate', 'Pairflow', 'Protocol', 'port_no', 'tx_bytes',\n",
       "       'rx_bytes', 'tx_kbps', 'rx_kbps', 'tot_kbps', 'label'],\n",
       "      dtype='object')"
      ]
     },
     "execution_count": 8,
     "metadata": {},
     "output_type": "execute_result"
    }
   ],
   "source": [
    "df.columns"
   ]
  },
  {
   "cell_type": "markdown",
   "id": "549e0412",
   "metadata": {},
   "source": [
    "#### Numerical Features"
   ]
  },
  {
   "cell_type": "code",
   "execution_count": 9,
   "id": "791c661a",
   "metadata": {},
   "outputs": [
    {
     "name": "stdout",
     "output_type": "stream",
     "text": [
      "The number of numerical features is 20 and they are : \n",
      " ['dt', 'switch', 'pktcount', 'bytecount', 'dur', 'dur_nsec', 'tot_dur', 'flows', 'packetins', 'pktperflow', 'byteperflow', 'pktrate', 'Pairflow', 'port_no', 'tx_bytes', 'rx_bytes', 'tx_kbps', 'rx_kbps', 'tot_kbps', 'label']\n"
     ]
    }
   ],
   "source": [
    "numerical_features = [feature for feature in df.columns if df[feature].dtypes != 'O']\n",
    "print(\"The number of numerical features is\",len(numerical_features),\"and they are : \\n\",numerical_features)"
   ]
  },
  {
   "cell_type": "markdown",
   "id": "6be4c029",
   "metadata": {},
   "source": [
    "#### Categorical Features"
   ]
  },
  {
   "cell_type": "code",
   "execution_count": 10,
   "id": "c35beed7",
   "metadata": {},
   "outputs": [
    {
     "name": "stdout",
     "output_type": "stream",
     "text": [
      "The number of categorical features is 3 and they are : \n",
      " ['src', 'dst', 'Protocol']\n"
     ]
    }
   ],
   "source": [
    "categorical_features = [feature for feature in df.columns if df[feature].dtypes == 'O']\n",
    "print(\"The number of categorical features is\",len(categorical_features),\"and they are : \\n\",categorical_features)"
   ]
  },
  {
   "cell_type": "markdown",
   "id": "7678de8d",
   "metadata": {},
   "source": [
    "#### Discrete numerical features"
   ]
  },
  {
   "cell_type": "code",
   "execution_count": 11,
   "id": "2d5c3b9f",
   "metadata": {},
   "outputs": [
    {
     "name": "stdout",
     "output_type": "stream",
     "text": [
      "The number of discrete features is 4 and they are : \n",
      " ['switch', 'flows', 'Pairflow', 'port_no']\n"
     ]
    }
   ],
   "source": [
    "discrete_feature = [feature for feature in numerical_features if df[feature].nunique()<=15 and feature != 'label']\n",
    "print(\"The number of discrete features is\",len(discrete_feature),\"and they are : \\n\",discrete_feature)"
   ]
  },
  {
   "cell_type": "markdown",
   "id": "18830683",
   "metadata": {},
   "source": [
    "#### Continuous features"
   ]
  },
  {
   "cell_type": "code",
   "execution_count": 12,
   "id": "5e333ca4",
   "metadata": {},
   "outputs": [
    {
     "name": "stdout",
     "output_type": "stream",
     "text": [
      "The number of continuous features is 15 and they are : \n",
      " ['dt', 'pktcount', 'bytecount', 'dur', 'dur_nsec', 'tot_dur', 'packetins', 'pktperflow', 'byteperflow', 'pktrate', 'tx_bytes', 'rx_bytes', 'tx_kbps', 'rx_kbps', 'tot_kbps']\n"
     ]
    }
   ],
   "source": [
    "continuous_feature=[feature for feature in numerical_features if feature not in discrete_feature + ['label']]\n",
    "print(\"The number of continuous features is\",len(continuous_feature),\"and they are : \\n\",continuous_feature)"
   ]
  },
  {
   "cell_type": "markdown",
   "id": "4aae2ef7",
   "metadata": {},
   "source": [
    "#### Distribution of attacks protocols"
   ]
  },
  {
   "cell_type": "code",
   "execution_count": 13,
   "id": "ae89f3a5",
   "metadata": {},
   "outputs": [],
   "source": [
    "def percentage_attack_protocols():\n",
    "    arr = [x for x, y in zip(df['Protocol'], df['label']) if y == 1]\n",
    "    perc_arr = []\n",
    "    for i in ['UDP','TCP','ICMP']:\n",
    "        perc_arr.append(arr.count(i)/len(arr) *100)\n",
    "    return perc_arr"
   ]
  },
  {
   "cell_type": "code",
   "execution_count": 14,
   "id": "ccf33001",
   "metadata": {},
   "outputs": [
    {
     "data": {
      "image/png": "[encoded data removed]",
      "text/plain": [
       "<Figure size 800x800 with 1 Axes>"
      ]
     },
     "metadata": {},
     "output_type": "display_data"
    }
   ],
   "source": [
    "fig1, ax1 = plt.subplots(figsize=[8,8])\n",
    "ax1.pie(percentage_attack_protocols(), explode=(0.1, 0, 0), autopct='%1.1f%%',\n",
    "        shadow=True, startangle=90)\n",
    "ax1.axis('equal')\n",
    "ax1.legend(['UDP', 'TCP', 'ICMP'],loc=\"best\")\n",
    "plt.title('Distribution of attacks protocols',fontsize = 16)\n",
    "plt.show()"
   ]
  },
  {
   "cell_type": "markdown",
   "id": "d4ddf1f0",
   "metadata": {},
   "source": [
    "### Categorical features encoding process"
   ]
  },
  {
   "cell_type": "code",
   "execution_count": 15,
   "id": "5dc4d263",
   "metadata": {},
   "outputs": [],
   "source": [
    "df = pd.get_dummies(df, columns=categorical_features,drop_first=True)"
   ]
  },
  {
   "cell_type": "code",
   "execution_count": 16,
   "id": "9f46cf48",
   "metadata": {},
   "outputs": [
    {
     "data": {
      "text/html": [
       "<div>\n",
       "<style scoped>\n",
       "    .dataframe tbody tr th:only-of-type {\n",
       "        vertical-align: middle;\n",
       "    }\n",
       "\n",
       "    .dataframe tbody tr th {\n",
       "        vertical-align: top;\n",
       "    }\n",
       "\n",
       "    .dataframe thead th {\n",
       "        text-align: right;\n",
       "    }\n",
       "</style>\n",
       "<table border=\"1\" class=\"dataframe\">\n",
       "  <thead>\n",
       "    <tr style=\"text-align: right;\">\n",
       "      <th></th>\n",
       "      <th>dt</th>\n",
       "      <th>switch</th>\n",
       "      <th>pktcount</th>\n",
       "      <th>bytecount</th>\n",
       "      <th>dur</th>\n",
       "      <th>dur_nsec</th>\n",
       "      <th>tot_dur</th>\n",
       "      <th>flows</th>\n",
       "      <th>packetins</th>\n",
       "      <th>pktperflow</th>\n",
       "      <th>...</th>\n",
       "      <th>dst_10.0.0.2</th>\n",
       "      <th>dst_10.0.0.3</th>\n",
       "      <th>dst_10.0.0.4</th>\n",
       "      <th>dst_10.0.0.5</th>\n",
       "      <th>dst_10.0.0.6</th>\n",
       "      <th>dst_10.0.0.7</th>\n",
       "      <th>dst_10.0.0.8</th>\n",
       "      <th>dst_10.0.0.9</th>\n",
       "      <th>Protocol_TCP</th>\n",
       "      <th>Protocol_UDP</th>\n",
       "    </tr>\n",
       "  </thead>\n",
       "  <tbody>\n",
       "    <tr>\n",
       "      <th>0</th>\n",
       "      <td>11425</td>\n",
       "      <td>1</td>\n",
       "      <td>45304</td>\n",
       "      <td>48294064</td>\n",
       "      <td>100</td>\n",
       "      <td>716000000</td>\n",
       "      <td>1.010000e+11</td>\n",
       "      <td>3</td>\n",
       "      <td>1943</td>\n",
       "      <td>13535</td>\n",
       "      <td>...</td>\n",
       "      <td>False</td>\n",
       "      <td>False</td>\n",
       "      <td>False</td>\n",
       "      <td>False</td>\n",
       "      <td>False</td>\n",
       "      <td>False</td>\n",
       "      <td>True</td>\n",
       "      <td>False</td>\n",
       "      <td>False</td>\n",
       "      <td>True</td>\n",
       "    </tr>\n",
       "    <tr>\n",
       "      <th>1</th>\n",
       "      <td>11605</td>\n",
       "      <td>1</td>\n",
       "      <td>126395</td>\n",
       "      <td>134737070</td>\n",
       "      <td>280</td>\n",
       "      <td>734000000</td>\n",
       "      <td>2.810000e+11</td>\n",
       "      <td>2</td>\n",
       "      <td>1943</td>\n",
       "      <td>13531</td>\n",
       "      <td>...</td>\n",
       "      <td>False</td>\n",
       "      <td>False</td>\n",
       "      <td>False</td>\n",
       "      <td>False</td>\n",
       "      <td>False</td>\n",
       "      <td>False</td>\n",
       "      <td>True</td>\n",
       "      <td>False</td>\n",
       "      <td>False</td>\n",
       "      <td>True</td>\n",
       "    </tr>\n",
       "    <tr>\n",
       "      <th>2</th>\n",
       "      <td>11425</td>\n",
       "      <td>1</td>\n",
       "      <td>90333</td>\n",
       "      <td>96294978</td>\n",
       "      <td>200</td>\n",
       "      <td>744000000</td>\n",
       "      <td>2.010000e+11</td>\n",
       "      <td>3</td>\n",
       "      <td>1943</td>\n",
       "      <td>13534</td>\n",
       "      <td>...</td>\n",
       "      <td>False</td>\n",
       "      <td>False</td>\n",
       "      <td>False</td>\n",
       "      <td>False</td>\n",
       "      <td>False</td>\n",
       "      <td>False</td>\n",
       "      <td>True</td>\n",
       "      <td>False</td>\n",
       "      <td>False</td>\n",
       "      <td>True</td>\n",
       "    </tr>\n",
       "    <tr>\n",
       "      <th>3</th>\n",
       "      <td>11425</td>\n",
       "      <td>1</td>\n",
       "      <td>90333</td>\n",
       "      <td>96294978</td>\n",
       "      <td>200</td>\n",
       "      <td>744000000</td>\n",
       "      <td>2.010000e+11</td>\n",
       "      <td>3</td>\n",
       "      <td>1943</td>\n",
       "      <td>13534</td>\n",
       "      <td>...</td>\n",
       "      <td>False</td>\n",
       "      <td>False</td>\n",
       "      <td>False</td>\n",
       "      <td>False</td>\n",
       "      <td>False</td>\n",
       "      <td>False</td>\n",
       "      <td>True</td>\n",
       "      <td>False</td>\n",
       "      <td>False</td>\n",
       "      <td>True</td>\n",
       "    </tr>\n",
       "    <tr>\n",
       "      <th>4</th>\n",
       "      <td>11425</td>\n",
       "      <td>1</td>\n",
       "      <td>90333</td>\n",
       "      <td>96294978</td>\n",
       "      <td>200</td>\n",
       "      <td>744000000</td>\n",
       "      <td>2.010000e+11</td>\n",
       "      <td>3</td>\n",
       "      <td>1943</td>\n",
       "      <td>13534</td>\n",
       "      <td>...</td>\n",
       "      <td>False</td>\n",
       "      <td>False</td>\n",
       "      <td>False</td>\n",
       "      <td>False</td>\n",
       "      <td>False</td>\n",
       "      <td>False</td>\n",
       "      <td>True</td>\n",
       "      <td>False</td>\n",
       "      <td>False</td>\n",
       "      <td>True</td>\n",
       "    </tr>\n",
       "    <tr>\n",
       "      <th>5</th>\n",
       "      <td>11425</td>\n",
       "      <td>1</td>\n",
       "      <td>90333</td>\n",
       "      <td>96294978</td>\n",
       "      <td>200</td>\n",
       "      <td>744000000</td>\n",
       "      <td>2.010000e+11</td>\n",
       "      <td>3</td>\n",
       "      <td>1943</td>\n",
       "      <td>13534</td>\n",
       "      <td>...</td>\n",
       "      <td>False</td>\n",
       "      <td>False</td>\n",
       "      <td>False</td>\n",
       "      <td>False</td>\n",
       "      <td>False</td>\n",
       "      <td>False</td>\n",
       "      <td>True</td>\n",
       "      <td>False</td>\n",
       "      <td>False</td>\n",
       "      <td>True</td>\n",
       "    </tr>\n",
       "    <tr>\n",
       "      <th>6</th>\n",
       "      <td>11425</td>\n",
       "      <td>1</td>\n",
       "      <td>45304</td>\n",
       "      <td>48294064</td>\n",
       "      <td>100</td>\n",
       "      <td>716000000</td>\n",
       "      <td>1.010000e+11</td>\n",
       "      <td>3</td>\n",
       "      <td>1943</td>\n",
       "      <td>13535</td>\n",
       "      <td>...</td>\n",
       "      <td>False</td>\n",
       "      <td>False</td>\n",
       "      <td>False</td>\n",
       "      <td>False</td>\n",
       "      <td>False</td>\n",
       "      <td>False</td>\n",
       "      <td>True</td>\n",
       "      <td>False</td>\n",
       "      <td>False</td>\n",
       "      <td>True</td>\n",
       "    </tr>\n",
       "    <tr>\n",
       "      <th>7</th>\n",
       "      <td>11425</td>\n",
       "      <td>1</td>\n",
       "      <td>45304</td>\n",
       "      <td>48294064</td>\n",
       "      <td>100</td>\n",
       "      <td>716000000</td>\n",
       "      <td>1.010000e+11</td>\n",
       "      <td>3</td>\n",
       "      <td>1943</td>\n",
       "      <td>13535</td>\n",
       "      <td>...</td>\n",
       "      <td>False</td>\n",
       "      <td>False</td>\n",
       "      <td>False</td>\n",
       "      <td>False</td>\n",
       "      <td>False</td>\n",
       "      <td>False</td>\n",
       "      <td>True</td>\n",
       "      <td>False</td>\n",
       "      <td>False</td>\n",
       "      <td>True</td>\n",
       "    </tr>\n",
       "    <tr>\n",
       "      <th>8</th>\n",
       "      <td>11425</td>\n",
       "      <td>1</td>\n",
       "      <td>45304</td>\n",
       "      <td>48294064</td>\n",
       "      <td>100</td>\n",
       "      <td>716000000</td>\n",
       "      <td>1.010000e+11</td>\n",
       "      <td>3</td>\n",
       "      <td>1943</td>\n",
       "      <td>13535</td>\n",
       "      <td>...</td>\n",
       "      <td>False</td>\n",
       "      <td>False</td>\n",
       "      <td>False</td>\n",
       "      <td>False</td>\n",
       "      <td>False</td>\n",
       "      <td>False</td>\n",
       "      <td>True</td>\n",
       "      <td>False</td>\n",
       "      <td>False</td>\n",
       "      <td>True</td>\n",
       "    </tr>\n",
       "    <tr>\n",
       "      <th>9</th>\n",
       "      <td>11425</td>\n",
       "      <td>1</td>\n",
       "      <td>90333</td>\n",
       "      <td>96294978</td>\n",
       "      <td>200</td>\n",
       "      <td>744000000</td>\n",
       "      <td>2.010000e+11</td>\n",
       "      <td>3</td>\n",
       "      <td>1943</td>\n",
       "      <td>13534</td>\n",
       "      <td>...</td>\n",
       "      <td>False</td>\n",
       "      <td>False</td>\n",
       "      <td>False</td>\n",
       "      <td>False</td>\n",
       "      <td>False</td>\n",
       "      <td>False</td>\n",
       "      <td>True</td>\n",
       "      <td>False</td>\n",
       "      <td>False</td>\n",
       "      <td>True</td>\n",
       "    </tr>\n",
       "  </tbody>\n",
       "</table>\n",
       "<p>10 rows × 57 columns</p>\n",
       "</div>"
      ],
      "text/plain": [
       "      dt  switch  pktcount  bytecount  dur   dur_nsec       tot_dur  flows  \\\n",
       "0  11425       1     45304   48294064  100  716000000  1.010000e+11      3   \n",
       "1  11605       1    126395  134737070  280  734000000  2.810000e+11      2   \n",
       "2  11425       1     90333   96294978  200  744000000  2.010000e+11      3   \n",
       "3  11425       1     90333   96294978  200  744000000  2.010000e+11      3   \n",
       "4  11425       1     90333   96294978  200  744000000  2.010000e+11      3   \n",
       "5  11425       1     90333   96294978  200  744000000  2.010000e+11      3   \n",
       "6  11425       1     45304   48294064  100  716000000  1.010000e+11      3   \n",
       "7  11425       1     45304   48294064  100  716000000  1.010000e+11      3   \n",
       "8  11425       1     45304   48294064  100  716000000  1.010000e+11      3   \n",
       "9  11425       1     90333   96294978  200  744000000  2.010000e+11      3   \n",
       "\n",
       "   packetins  pktperflow  ...  dst_10.0.0.2  dst_10.0.0.3  dst_10.0.0.4  \\\n",
       "0       1943       13535  ...         False         False         False   \n",
       "1       1943       13531  ...         False         False         False   \n",
       "2       1943       13534  ...         False         False         False   \n",
       "3       1943       13534  ...         False         False         False   \n",
       "4       1943       13534  ...         False         False         False   \n",
       "5       1943       13534  ...         False         False         False   \n",
       "6       1943       13535  ...         False         False         False   \n",
       "7       1943       13535  ...         False         False         False   \n",
       "8       1943       13535  ...         False         False         False   \n",
       "9       1943       13534  ...         False         False         False   \n",
       "\n",
       "   dst_10.0.0.5  dst_10.0.0.6  dst_10.0.0.7  dst_10.0.0.8  dst_10.0.0.9  \\\n",
       "0         False         False         False          True         False   \n",
       "1         False         False         False          True         False   \n",
       "2         False         False         False          True         False   \n",
       "3         False         False         False          True         False   \n",
       "4         False         False         False          True         False   \n",
       "5         False         False         False          True         False   \n",
       "6         False         False         False          True         False   \n",
       "7         False         False         False          True         False   \n",
       "8         False         False         False          True         False   \n",
       "9         False         False         False          True         False   \n",
       "\n",
       "   Protocol_TCP  Protocol_UDP  \n",
       "0         False          True  \n",
       "1         False          True  \n",
       "2         False          True  \n",
       "3         False          True  \n",
       "4         False          True  \n",
       "5         False          True  \n",
       "6         False          True  \n",
       "7         False          True  \n",
       "8         False          True  \n",
       "9         False          True  \n",
       "\n",
       "[10 rows x 57 columns]"
      ]
     },
     "execution_count": 16,
     "metadata": {},
     "output_type": "execute_result"
    }
   ],
   "source": [
    "#The dataset after the encoding process\n",
    "df.head(10)"
   ]
  },
  {
   "cell_type": "markdown",
   "id": "4469f799",
   "metadata": {},
   "source": [
    "### Setting the input and output variables"
   ]
  },
  {
   "cell_type": "code",
   "execution_count": 17,
   "id": "68f8bd86",
   "metadata": {},
   "outputs": [],
   "source": [
    "#Setting the input and output variables of the model\n",
    "x = df.drop(['label'], axis=1)\n",
    "y = df['label']"
   ]
  },
  {
   "cell_type": "markdown",
   "id": "739311b8",
   "metadata": {},
   "source": [
    "### Normalizing process"
   ]
  },
  {
   "cell_type": "code",
   "execution_count": 18,
   "id": "331d62d9",
   "metadata": {},
   "outputs": [],
   "source": [
    "ms = MinMaxScaler()\n",
    "x = ms.fit_transform(x)"
   ]
  },
  {
   "cell_type": "markdown",
   "id": "a50fcc7e",
   "metadata": {},
   "source": [
    "### Setting the test and training set sizes"
   ]
  },
  {
   "cell_type": "code",
   "execution_count": 19,
   "id": "1920d424",
   "metadata": {},
   "outputs": [],
   "source": [
    "X_train, X_test, y_train, y_test = train_test_split(x, y,test_size=0.3)"
   ]
  },
  {
   "cell_type": "markdown",
   "id": "03ecae0a",
   "metadata": {},
   "source": [
    "## Methodologies List\n",
    "1. DNN\n",
    "2. KNN\n",
    "3. SVM\n",
    "4. Decision tree\n",
    "5. SGD\n",
    "6. XGBoost"
   ]
  },
  {
   "cell_type": "code",
   "execution_count": 20,
   "id": "90050313",
   "metadata": {},
   "outputs": [],
   "source": [
    "Classifier_accuracy = []"
   ]
  },
  {
   "cell_type": "markdown",
   "id": "e86665d0",
   "metadata": {},
   "source": [
    "#### Building and compiling the Deep Neural Network Model"
   ]
  },
  {
   "cell_type": "code",
   "execution_count": 21,
   "id": "bd66104b",
   "metadata": {},
   "outputs": [
    {
     "name": "stderr",
     "output_type": "stream",
     "text": [
      "c:\\Python\\envs\\ML\\Lib\\site-packages\\keras\\src\\layers\\core\\dense.py:85: UserWarning: Do not pass an `input_shape`/`input_dim` argument to a layer. When using Sequential models, prefer using an `Input(shape)` object as the first layer in the model instead.\n",
      "  super().__init__(activity_regularizer=activity_regularizer, **kwargs)\n"
     ]
    },
    {
     "data": {
      "text/html": [
       "<pre style=\"white-space:pre;overflow-x:auto;line-height:normal;font-family:Menlo,'DejaVu Sans Mono',consolas,'Courier New',monospace\"><span style=\"font-weight: bold\">Model: \"sequential\"</span>\n",
       "</pre>\n"
      ],
      "text/plain": [
       "\u001b[1mModel: \"sequential\"\u001b[0m\n"
      ]
     },
     "metadata": {},
     "output_type": "display_data"
    },
    {
     "data": {
      "text/html": [
       "<pre style=\"white-space:pre;overflow-x:auto;line-height:normal;font-family:Menlo,'DejaVu Sans Mono',consolas,'Courier New',monospace\">┏━━━━━━━━━━━━━━━━━━━━━━━━━━━━━━━━━┳━━━━━━━━━━━━━━━━━━━━━━━━┳━━━━━━━━━━━━━━━┓\n",
       "┃<span style=\"font-weight: bold\"> Layer (type)                    </span>┃<span style=\"font-weight: bold\"> Output Shape           </span>┃<span style=\"font-weight: bold\">       Param # </span>┃\n",
       "┡━━━━━━━━━━━━━━━━━━━━━━━━━━━━━━━━━╇━━━━━━━━━━━━━━━━━━━━━━━━╇━━━━━━━━━━━━━━━┩\n",
       "│ Input_Layer (<span style=\"color: #0087ff; text-decoration-color: #0087ff\">Dense</span>)             │ (<span style=\"color: #00d7ff; text-decoration-color: #00d7ff\">None</span>, <span style=\"color: #00af00; text-decoration-color: #00af00\">28</span>)             │         <span style=\"color: #00af00; text-decoration-color: #00af00\">1,596</span> │\n",
       "├─────────────────────────────────┼────────────────────────┼───────────────┤\n",
       "│ Hidden_Layer (<span style=\"color: #0087ff; text-decoration-color: #0087ff\">Dense</span>)            │ (<span style=\"color: #00d7ff; text-decoration-color: #00d7ff\">None</span>, <span style=\"color: #00af00; text-decoration-color: #00af00\">10</span>)             │           <span style=\"color: #00af00; text-decoration-color: #00af00\">290</span> │\n",
       "├─────────────────────────────────┼────────────────────────┼───────────────┤\n",
       "│ Output_Layer (<span style=\"color: #0087ff; text-decoration-color: #0087ff\">Dense</span>)            │ (<span style=\"color: #00d7ff; text-decoration-color: #00d7ff\">None</span>, <span style=\"color: #00af00; text-decoration-color: #00af00\">1</span>)              │            <span style=\"color: #00af00; text-decoration-color: #00af00\">11</span> │\n",
       "└─────────────────────────────────┴────────────────────────┴───────────────┘\n",
       "</pre>\n"
      ],
      "text/plain": [
       "┏━━━━━━━━━━━━━━━━━━━━━━━━━━━━━━━━━┳━━━━━━━━━━━━━━━━━━━━━━━━┳━━━━━━━━━━━━━━━┓\n",
       "┃\u001b[1m \u001b[0m\u001b[1mLayer (type)                   \u001b[0m\u001b[1m \u001b[0m┃\u001b[1m \u001b[0m\u001b[1mOutput Shape          \u001b[0m\u001b[1m \u001b[0m┃\u001b[1m \u001b[0m\u001b[1m      Param #\u001b[0m\u001b[1m \u001b[0m┃\n",
       "┡━━━━━━━━━━━━━━━━━━━━━━━━━━━━━━━━━╇━━━━━━━━━━━━━━━━━━━━━━━━╇━━━━━━━━━━━━━━━┩\n",
       "│ Input_Layer (\u001b[38;5;33mDense\u001b[0m)             │ (\u001b[38;5;45mNone\u001b[0m, \u001b[38;5;34m28\u001b[0m)             │         \u001b[38;5;34m1,596\u001b[0m │\n",
       "├─────────────────────────────────┼────────────────────────┼───────────────┤\n",
       "│ Hidden_Layer (\u001b[38;5;33mDense\u001b[0m)            │ (\u001b[38;5;45mNone\u001b[0m, \u001b[38;5;34m10\u001b[0m)             │           \u001b[38;5;34m290\u001b[0m │\n",
       "├─────────────────────────────────┼────────────────────────┼───────────────┤\n",
       "│ Output_Layer (\u001b[38;5;33mDense\u001b[0m)            │ (\u001b[38;5;45mNone\u001b[0m, \u001b[38;5;34m1\u001b[0m)              │            \u001b[38;5;34m11\u001b[0m │\n",
       "└─────────────────────────────────┴────────────────────────┴───────────────┘\n"
      ]
     },
     "metadata": {},
     "output_type": "display_data"
    },
    {
     "data": {
      "text/html": [
       "<pre style=\"white-space:pre;overflow-x:auto;line-height:normal;font-family:Menlo,'DejaVu Sans Mono',consolas,'Courier New',monospace\"><span style=\"font-weight: bold\"> Total params: </span><span style=\"color: #00af00; text-decoration-color: #00af00\">1,897</span> (7.41 KB)\n",
       "</pre>\n"
      ],
      "text/plain": [
       "\u001b[1m Total params: \u001b[0m\u001b[38;5;34m1,897\u001b[0m (7.41 KB)\n"
      ]
     },
     "metadata": {},
     "output_type": "display_data"
    },
    {
     "data": {
      "text/html": [
       "<pre style=\"white-space:pre;overflow-x:auto;line-height:normal;font-family:Menlo,'DejaVu Sans Mono',consolas,'Courier New',monospace\"><span style=\"font-weight: bold\"> Trainable params: </span><span style=\"color: #00af00; text-decoration-color: #00af00\">1,897</span> (7.41 KB)\n",
       "</pre>\n"
      ],
      "text/plain": [
       "\u001b[1m Trainable params: \u001b[0m\u001b[38;5;34m1,897\u001b[0m (7.41 KB)\n"
      ]
     },
     "metadata": {},
     "output_type": "display_data"
    },
    {
     "data": {
      "text/html": [
       "<pre style=\"white-space:pre;overflow-x:auto;line-height:normal;font-family:Menlo,'DejaVu Sans Mono',consolas,'Courier New',monospace\"><span style=\"font-weight: bold\"> Non-trainable params: </span><span style=\"color: #00af00; text-decoration-color: #00af00\">0</span> (0.00 B)\n",
       "</pre>\n"
      ],
      "text/plain": [
       "\u001b[1m Non-trainable params: \u001b[0m\u001b[38;5;34m0\u001b[0m (0.00 B)\n"
      ]
     },
     "metadata": {},
     "output_type": "display_data"
    }
   ],
   "source": [
    "model = keras.Sequential()\n",
    "model.add(Dense(28 , input_shape=(56,) , activation=\"relu\" , name=\"Input_Layer\"))\n",
    "model.add(Dense(10 , activation=\"relu\" , name=\"Hidden_Layer\"))\n",
    "model.add(Dense(1 , activation=\"sigmoid\" , name=\"Output_Layer\"))\n",
    "opt = keras.optimizers.Adam(learning_rate=0.01)\n",
    "model.compile( optimizer=opt, loss=\"binary_crossentropy\", metrics=['accuracy'])\n",
    "model.summary()"
   ]
  },
  {
   "cell_type": "markdown",
   "id": "b72205d6",
   "metadata": {},
   "source": [
    "#### Fitting The Model"
   ]
  },
  {
   "cell_type": "code",
   "execution_count": 22,
   "id": "5aeadd75",
   "metadata": {},
   "outputs": [
    {
     "name": "stdout",
     "output_type": "stream",
     "text": [
      "Epoch 1/100\n",
      "2272/2272 - 3s - 1ms/step - accuracy: 0.9358 - loss: 0.1544 - val_accuracy: 0.9488 - val_loss: 0.1229\n",
      "Epoch 2/100\n",
      "2272/2272 - 2s - 836us/step - accuracy: 0.9657 - loss: 0.0858 - val_accuracy: 0.9612 - val_loss: 0.0916\n",
      "Epoch 3/100\n",
      "2272/2272 - 2s - 815us/step - accuracy: 0.9716 - loss: 0.0712 - val_accuracy: 0.9615 - val_loss: 0.1035\n",
      "Epoch 4/100\n",
      "2272/2272 - 2s - 828us/step - accuracy: 0.9743 - loss: 0.0649 - val_accuracy: 0.9793 - val_loss: 0.0525\n",
      "Epoch 5/100\n",
      "2272/2272 - 2s - 829us/step - accuracy: 0.9757 - loss: 0.0595 - val_accuracy: 0.9770 - val_loss: 0.0556\n",
      "Epoch 6/100\n",
      "2272/2272 - 2s - 829us/step - accuracy: 0.9783 - loss: 0.0545 - val_accuracy: 0.9772 - val_loss: 0.0597\n",
      "Epoch 7/100\n",
      "2272/2272 - 2s - 821us/step - accuracy: 0.9794 - loss: 0.0523 - val_accuracy: 0.9828 - val_loss: 0.0442\n",
      "Epoch 8/100\n",
      "2272/2272 - 2s - 820us/step - accuracy: 0.9811 - loss: 0.0466 - val_accuracy: 0.9776 - val_loss: 0.0499\n",
      "Epoch 9/100\n",
      "2272/2272 - 2s - 897us/step - accuracy: 0.9817 - loss: 0.0452 - val_accuracy: 0.9782 - val_loss: 0.0528\n",
      "Epoch 10/100\n",
      "2272/2272 - 2s - 822us/step - accuracy: 0.9833 - loss: 0.0414 - val_accuracy: 0.9808 - val_loss: 0.0548\n",
      "Epoch 11/100\n",
      "2272/2272 - 2s - 874us/step - accuracy: 0.9838 - loss: 0.0405 - val_accuracy: 0.9843 - val_loss: 0.0377\n",
      "Epoch 12/100\n",
      "2272/2272 - 2s - 863us/step - accuracy: 0.9839 - loss: 0.0401 - val_accuracy: 0.9839 - val_loss: 0.0380\n",
      "Epoch 13/100\n",
      "2272/2272 - 2s - 856us/step - accuracy: 0.9849 - loss: 0.0387 - val_accuracy: 0.9864 - val_loss: 0.0330\n",
      "Epoch 14/100\n",
      "2272/2272 - 2s - 835us/step - accuracy: 0.9850 - loss: 0.0370 - val_accuracy: 0.9866 - val_loss: 0.0331\n",
      "Epoch 15/100\n",
      "2272/2272 - 2s - 828us/step - accuracy: 0.9859 - loss: 0.0349 - val_accuracy: 0.9888 - val_loss: 0.0276\n",
      "Epoch 16/100\n",
      "2272/2272 - 2s - 1ms/step - accuracy: 0.9859 - loss: 0.0346 - val_accuracy: 0.9859 - val_loss: 0.0317\n",
      "Epoch 17/100\n",
      "2272/2272 - 3s - 1ms/step - accuracy: 0.9862 - loss: 0.0334 - val_accuracy: 0.9869 - val_loss: 0.0305\n",
      "Epoch 18/100\n",
      "2272/2272 - 2s - 901us/step - accuracy: 0.9866 - loss: 0.0326 - val_accuracy: 0.9878 - val_loss: 0.0284\n",
      "Epoch 19/100\n",
      "2272/2272 - 2s - 826us/step - accuracy: 0.9870 - loss: 0.0316 - val_accuracy: 0.9887 - val_loss: 0.0265\n",
      "Epoch 20/100\n",
      "2272/2272 - 2s - 849us/step - accuracy: 0.9876 - loss: 0.0307 - val_accuracy: 0.9855 - val_loss: 0.0367\n",
      "Epoch 21/100\n",
      "2272/2272 - 2s - 856us/step - accuracy: 0.9868 - loss: 0.0320 - val_accuracy: 0.9847 - val_loss: 0.0335\n",
      "Epoch 22/100\n",
      "2272/2272 - 2s - 842us/step - accuracy: 0.9877 - loss: 0.0294 - val_accuracy: 0.9882 - val_loss: 0.0280\n",
      "Epoch 23/100\n",
      "2272/2272 - 2s - 844us/step - accuracy: 0.9874 - loss: 0.0299 - val_accuracy: 0.9890 - val_loss: 0.0258\n",
      "Epoch 24/100\n",
      "2272/2272 - 2s - 842us/step - accuracy: 0.9881 - loss: 0.0294 - val_accuracy: 0.9899 - val_loss: 0.0240\n",
      "Epoch 25/100\n",
      "2272/2272 - 2s - 889us/step - accuracy: 0.9883 - loss: 0.0278 - val_accuracy: 0.9878 - val_loss: 0.0289\n",
      "Epoch 26/100\n",
      "2272/2272 - 2s - 900us/step - accuracy: 0.9880 - loss: 0.0276 - val_accuracy: 0.9885 - val_loss: 0.0303\n",
      "Epoch 27/100\n",
      "2272/2272 - 2s - 864us/step - accuracy: 0.9886 - loss: 0.0275 - val_accuracy: 0.9880 - val_loss: 0.0284\n",
      "Epoch 28/100\n",
      "2272/2272 - 2s - 794us/step - accuracy: 0.9886 - loss: 0.0274 - val_accuracy: 0.9883 - val_loss: 0.0290\n",
      "Epoch 29/100\n",
      "2272/2272 - 2s - 870us/step - accuracy: 0.9888 - loss: 0.0273 - val_accuracy: 0.9888 - val_loss: 0.0254\n",
      "Epoch 30/100\n",
      "2272/2272 - 2s - 899us/step - accuracy: 0.9890 - loss: 0.0258 - val_accuracy: 0.9907 - val_loss: 0.0212\n",
      "Epoch 31/100\n",
      "2272/2272 - 2s - 940us/step - accuracy: 0.9892 - loss: 0.0262 - val_accuracy: 0.9887 - val_loss: 0.0244\n",
      "Epoch 32/100\n",
      "2272/2272 - 2s - 879us/step - accuracy: 0.9893 - loss: 0.0260 - val_accuracy: 0.9903 - val_loss: 0.0233\n",
      "Epoch 33/100\n",
      "2272/2272 - 2s - 862us/step - accuracy: 0.9888 - loss: 0.0266 - val_accuracy: 0.9828 - val_loss: 0.0435\n",
      "Epoch 34/100\n",
      "2272/2272 - 2s - 873us/step - accuracy: 0.9890 - loss: 0.0256 - val_accuracy: 0.9897 - val_loss: 0.0249\n",
      "Epoch 35/100\n",
      "2272/2272 - 2s - 824us/step - accuracy: 0.9894 - loss: 0.0245 - val_accuracy: 0.9844 - val_loss: 0.0411\n",
      "Epoch 36/100\n",
      "2272/2272 - 2s - 825us/step - accuracy: 0.9894 - loss: 0.0257 - val_accuracy: 0.9900 - val_loss: 0.0253\n",
      "Epoch 37/100\n",
      "2272/2272 - 2s - 842us/step - accuracy: 0.9898 - loss: 0.0238 - val_accuracy: 0.9901 - val_loss: 0.0209\n",
      "Epoch 38/100\n",
      "2272/2272 - 2s - 868us/step - accuracy: 0.9900 - loss: 0.0238 - val_accuracy: 0.9881 - val_loss: 0.0300\n",
      "Epoch 39/100\n",
      "2272/2272 - 2s - 834us/step - accuracy: 0.9896 - loss: 0.0238 - val_accuracy: 0.9910 - val_loss: 0.0219\n",
      "Epoch 40/100\n",
      "2272/2272 - 2s - 826us/step - accuracy: 0.9897 - loss: 0.0256 - val_accuracy: 0.9891 - val_loss: 0.0241\n",
      "Epoch 41/100\n",
      "2272/2272 - 2s - 896us/step - accuracy: 0.9900 - loss: 0.0234 - val_accuracy: 0.9889 - val_loss: 0.0260\n",
      "Epoch 42/100\n",
      "2272/2272 - 2s - 844us/step - accuracy: 0.9897 - loss: 0.0248 - val_accuracy: 0.9894 - val_loss: 0.0232\n",
      "Epoch 43/100\n",
      "2272/2272 - 2s - 836us/step - accuracy: 0.9901 - loss: 0.0236 - val_accuracy: 0.9895 - val_loss: 0.0247\n",
      "Epoch 44/100\n",
      "2272/2272 - 2s - 882us/step - accuracy: 0.9901 - loss: 0.0237 - val_accuracy: 0.9911 - val_loss: 0.0204\n",
      "Epoch 45/100\n",
      "2272/2272 - 3s - 1ms/step - accuracy: 0.9900 - loss: 0.0231 - val_accuracy: 0.9895 - val_loss: 0.0239\n",
      "Epoch 46/100\n",
      "2272/2272 - 2s - 925us/step - accuracy: 0.9907 - loss: 0.0223 - val_accuracy: 0.9909 - val_loss: 0.0229\n",
      "Epoch 47/100\n",
      "2272/2272 - 2s - 822us/step - accuracy: 0.9903 - loss: 0.0232 - val_accuracy: 0.9905 - val_loss: 0.0227\n",
      "Epoch 48/100\n",
      "2272/2272 - 2s - 906us/step - accuracy: 0.9909 - loss: 0.0219 - val_accuracy: 0.9915 - val_loss: 0.0198\n",
      "Epoch 49/100\n",
      "2272/2272 - 2s - 894us/step - accuracy: 0.9904 - loss: 0.0234 - val_accuracy: 0.9910 - val_loss: 0.0214\n",
      "Epoch 50/100\n",
      "2272/2272 - 2s - 1ms/step - accuracy: 0.9906 - loss: 0.0227 - val_accuracy: 0.9918 - val_loss: 0.0190\n",
      "Epoch 51/100\n",
      "2272/2272 - 2s - 1ms/step - accuracy: 0.9904 - loss: 0.0226 - val_accuracy: 0.9912 - val_loss: 0.0219\n",
      "Epoch 52/100\n",
      "2272/2272 - 2s - 845us/step - accuracy: 0.9906 - loss: 0.0220 - val_accuracy: 0.9909 - val_loss: 0.0217\n",
      "Epoch 53/100\n",
      "2272/2272 - 2s - 919us/step - accuracy: 0.9907 - loss: 0.0218 - val_accuracy: 0.9909 - val_loss: 0.0204\n",
      "Epoch 54/100\n",
      "2272/2272 - 2s - 888us/step - accuracy: 0.9906 - loss: 0.0221 - val_accuracy: 0.9921 - val_loss: 0.0185\n",
      "Epoch 55/100\n",
      "2272/2272 - 2s - 859us/step - accuracy: 0.9907 - loss: 0.0228 - val_accuracy: 0.9908 - val_loss: 0.0204\n",
      "Epoch 56/100\n",
      "2272/2272 - 2s - 794us/step - accuracy: 0.9911 - loss: 0.0211 - val_accuracy: 0.9887 - val_loss: 0.0252\n",
      "Epoch 57/100\n",
      "2272/2272 - 2s - 842us/step - accuracy: 0.9908 - loss: 0.0221 - val_accuracy: 0.9927 - val_loss: 0.0171\n",
      "Epoch 58/100\n",
      "2272/2272 - 2s - 876us/step - accuracy: 0.9907 - loss: 0.0212 - val_accuracy: 0.9917 - val_loss: 0.0204\n",
      "Epoch 59/100\n",
      "2272/2272 - 2s - 807us/step - accuracy: 0.9910 - loss: 0.0222 - val_accuracy: 0.9910 - val_loss: 0.0222\n",
      "Epoch 60/100\n",
      "2272/2272 - 2s - 807us/step - accuracy: 0.9914 - loss: 0.0204 - val_accuracy: 0.9870 - val_loss: 0.0337\n",
      "Epoch 61/100\n",
      "2272/2272 - 2s - 939us/step - accuracy: 0.9911 - loss: 0.0209 - val_accuracy: 0.9912 - val_loss: 0.0206\n",
      "Epoch 62/100\n",
      "2272/2272 - 2s - 911us/step - accuracy: 0.9903 - loss: 0.0232 - val_accuracy: 0.9921 - val_loss: 0.0178\n",
      "Epoch 63/100\n",
      "2272/2272 - 2s - 887us/step - accuracy: 0.9912 - loss: 0.0208 - val_accuracy: 0.9884 - val_loss: 0.0344\n",
      "Epoch 64/100\n",
      "2272/2272 - 2s - 830us/step - accuracy: 0.9909 - loss: 0.0209 - val_accuracy: 0.9907 - val_loss: 0.0222\n",
      "Epoch 65/100\n",
      "2272/2272 - 2s - 836us/step - accuracy: 0.9912 - loss: 0.0199 - val_accuracy: 0.9911 - val_loss: 0.0229\n",
      "Epoch 66/100\n",
      "2272/2272 - 2s - 833us/step - accuracy: 0.9911 - loss: 0.0219 - val_accuracy: 0.9922 - val_loss: 0.0183\n",
      "Epoch 67/100\n",
      "2272/2272 - 2s - 829us/step - accuracy: 0.9913 - loss: 0.0209 - val_accuracy: 0.9915 - val_loss: 0.0208\n",
      "Epoch 68/100\n",
      "2272/2272 - 2s - 842us/step - accuracy: 0.9915 - loss: 0.0205 - val_accuracy: 0.9920 - val_loss: 0.0171\n",
      "Epoch 69/100\n",
      "2272/2272 - 2s - 821us/step - accuracy: 0.9916 - loss: 0.0207 - val_accuracy: 0.9917 - val_loss: 0.0186\n",
      "Epoch 70/100\n",
      "2272/2272 - 2s - 829us/step - accuracy: 0.9911 - loss: 0.0214 - val_accuracy: 0.9902 - val_loss: 0.0243\n",
      "Epoch 71/100\n",
      "2272/2272 - 2s - 844us/step - accuracy: 0.9916 - loss: 0.0192 - val_accuracy: 0.9919 - val_loss: 0.0181\n",
      "Epoch 72/100\n",
      "2272/2272 - 2s - 835us/step - accuracy: 0.9912 - loss: 0.0205 - val_accuracy: 0.9922 - val_loss: 0.0181\n",
      "Epoch 73/100\n",
      "2272/2272 - 2s - 836us/step - accuracy: 0.9916 - loss: 0.0207 - val_accuracy: 0.9915 - val_loss: 0.0199\n",
      "Epoch 74/100\n",
      "2272/2272 - 2s - 851us/step - accuracy: 0.9910 - loss: 0.0202 - val_accuracy: 0.9913 - val_loss: 0.0214\n",
      "Epoch 75/100\n",
      "2272/2272 - 2s - 843us/step - accuracy: 0.9917 - loss: 0.0201 - val_accuracy: 0.9903 - val_loss: 0.0216\n",
      "Epoch 76/100\n",
      "2272/2272 - 2s - 836us/step - accuracy: 0.9919 - loss: 0.0189 - val_accuracy: 0.9924 - val_loss: 0.0176\n",
      "Epoch 77/100\n",
      "2272/2272 - 2s - 837us/step - accuracy: 0.9920 - loss: 0.0193 - val_accuracy: 0.9928 - val_loss: 0.0165\n",
      "Epoch 78/100\n",
      "2272/2272 - 2s - 842us/step - accuracy: 0.9914 - loss: 0.0209 - val_accuracy: 0.9921 - val_loss: 0.0175\n",
      "Epoch 79/100\n",
      "2272/2272 - 2s - 836us/step - accuracy: 0.9920 - loss: 0.0191 - val_accuracy: 0.9899 - val_loss: 0.0248\n",
      "Epoch 80/100\n",
      "2272/2272 - 2s - 843us/step - accuracy: 0.9914 - loss: 0.0204 - val_accuracy: 0.9921 - val_loss: 0.0191\n",
      "Epoch 81/100\n",
      "2272/2272 - 2s - 843us/step - accuracy: 0.9923 - loss: 0.0180 - val_accuracy: 0.9904 - val_loss: 0.0258\n",
      "Epoch 82/100\n",
      "2272/2272 - 2s - 848us/step - accuracy: 0.9917 - loss: 0.0199 - val_accuracy: 0.9932 - val_loss: 0.0151\n",
      "Epoch 83/100\n",
      "2272/2272 - 2s - 838us/step - accuracy: 0.9917 - loss: 0.0199 - val_accuracy: 0.9923 - val_loss: 0.0175\n",
      "Epoch 84/100\n",
      "2272/2272 - 2s - 837us/step - accuracy: 0.9917 - loss: 0.0198 - val_accuracy: 0.9918 - val_loss: 0.0188\n",
      "Epoch 85/100\n",
      "2272/2272 - 2s - 835us/step - accuracy: 0.9920 - loss: 0.0186 - val_accuracy: 0.9914 - val_loss: 0.0198\n",
      "Epoch 86/100\n",
      "2272/2272 - 2s - 837us/step - accuracy: 0.9921 - loss: 0.0191 - val_accuracy: 0.9930 - val_loss: 0.0163\n",
      "Epoch 87/100\n",
      "2272/2272 - 2s - 862us/step - accuracy: 0.9924 - loss: 0.0175 - val_accuracy: 0.9904 - val_loss: 0.0263\n",
      "Epoch 88/100\n",
      "2272/2272 - 2s - 836us/step - accuracy: 0.9918 - loss: 0.0197 - val_accuracy: 0.9910 - val_loss: 0.0210\n",
      "Epoch 89/100\n",
      "2272/2272 - 2s - 851us/step - accuracy: 0.9923 - loss: 0.0186 - val_accuracy: 0.9923 - val_loss: 0.0172\n",
      "Epoch 90/100\n",
      "2272/2272 - 2s - 843us/step - accuracy: 0.9922 - loss: 0.0191 - val_accuracy: 0.9932 - val_loss: 0.0155\n",
      "Epoch 91/100\n",
      "2272/2272 - 2s - 851us/step - accuracy: 0.9922 - loss: 0.0180 - val_accuracy: 0.9925 - val_loss: 0.0162\n",
      "Epoch 92/100\n",
      "2272/2272 - 2s - 842us/step - accuracy: 0.9915 - loss: 0.0195 - val_accuracy: 0.9928 - val_loss: 0.0169\n",
      "Epoch 93/100\n",
      "2272/2272 - 2s - 843us/step - accuracy: 0.9918 - loss: 0.0195 - val_accuracy: 0.9935 - val_loss: 0.0159\n",
      "Epoch 94/100\n",
      "2272/2272 - 2s - 836us/step - accuracy: 0.9916 - loss: 0.0196 - val_accuracy: 0.9899 - val_loss: 0.0233\n",
      "Epoch 95/100\n",
      "2272/2272 - 2s - 844us/step - accuracy: 0.9919 - loss: 0.0182 - val_accuracy: 0.9923 - val_loss: 0.0178\n",
      "Epoch 96/100\n",
      "2272/2272 - 2s - 850us/step - accuracy: 0.9921 - loss: 0.0186 - val_accuracy: 0.9914 - val_loss: 0.0284\n",
      "Epoch 97/100\n",
      "2272/2272 - 2s - 843us/step - accuracy: 0.9922 - loss: 0.0185 - val_accuracy: 0.9923 - val_loss: 0.0170\n",
      "Epoch 98/100\n",
      "2272/2272 - 2s - 843us/step - accuracy: 0.9918 - loss: 0.0196 - val_accuracy: 0.9907 - val_loss: 0.0209\n",
      "Epoch 99/100\n",
      "2272/2272 - 2s - 836us/step - accuracy: 0.9917 - loss: 0.0202 - val_accuracy: 0.9926 - val_loss: 0.0166\n",
      "Epoch 100/100\n",
      "2272/2272 - 2s - 828us/step - accuracy: 0.9923 - loss: 0.0188 - val_accuracy: 0.9917 - val_loss: 0.0193\n"
     ]
    }
   ],
   "source": [
    "history_org = model.fit(\n",
    "    X_train, \n",
    "    y_train, \n",
    "    batch_size=32, \n",
    "    epochs=100, verbose=2, \n",
    "    callbacks=None, \n",
    "    validation_data=(X_test,y_test), \n",
    "    shuffle=True, \n",
    "    class_weight=None, \n",
    "    sample_weight=None, \n",
    "    initial_epoch=0)"
   ]
  },
  {
   "cell_type": "markdown",
   "id": "63146b0b",
   "metadata": {},
   "source": [
    "#### Plotting the relationship between the model loss and the number of epochs "
   ]
  },
  {
   "cell_type": "code",
   "execution_count": 23,
   "id": "1a2ee146",
   "metadata": {},
   "outputs": [
    {
     "data": {
      "image/png": "[encoded data removed]",
      "text/plain": [
       "<Figure size 640x480 with 1 Axes>"
      ]
     },
     "metadata": {},
     "output_type": "display_data"
    }
   ],
   "source": [
    "loss = history_org.history['loss']\n",
    "val_loss = history_org.history['val_loss']\n",
    "epochs = range(1, len(loss) + 1)\n",
    "plt.plot(epochs, loss, 'b', label = 'Training loss')\n",
    "plt.plot(epochs, val_loss, 'r', label = 'Validation loss')\n",
    "plt.title('Model loss against the number of epochs')\n",
    "plt.xlabel('Number of epochs')\n",
    "plt.ylabel('Model loss')\n",
    "plt.legend()\n",
    "plt.show()"
   ]
  },
  {
   "cell_type": "markdown",
   "id": "b647a0c3",
   "metadata": {},
   "source": [
    "#### Plotting the relationship between the model accuracy and the number of epochs "
   ]
  },
  {
   "cell_type": "code",
   "execution_count": 24,
   "id": "af26795c",
   "metadata": {},
   "outputs": [
    {
     "data": {
      "image/png": "[encoded data removed]",
      "text/plain": [
       "<Figure size 640x480 with 1 Axes>"
      ]
     },
     "metadata": {},
     "output_type": "display_data"
    }
   ],
   "source": [
    "loss = history_org.history['accuracy']\n",
    "val_loss = history_org.history['val_accuracy']\n",
    "plt.plot(epochs, loss, 'b', label = 'Training accuracy')\n",
    "plt.plot(epochs, val_loss, 'r', label = 'Validation accuracy')\n",
    "plt.title('Model accuracy against the number of epochs')\n",
    "plt.xlabel('Number of epochs')\n",
    "plt.ylabel('Model accuracy')\n",
    "plt.legend()\n",
    "plt.show()"
   ]
  },
  {
   "cell_type": "markdown",
   "id": "567d841a",
   "metadata": {},
   "source": [
    "#### Evaluating The Model"
   ]
  },
  {
   "cell_type": "code",
   "execution_count": 25,
   "id": "51077496",
   "metadata": {},
   "outputs": [
    {
     "name": "stdout",
     "output_type": "stream",
     "text": [
      "\u001b[1m974/974\u001b[0m \u001b[32m━━━━━━━━━━━━━━━━━━━━\u001b[0m\u001b[37m\u001b[0m \u001b[1m1s\u001b[0m 538us/step - accuracy: 0.9916 - loss: 0.0200\n",
      "Accuracy of the DNN : 99.17\n"
     ]
    }
   ],
   "source": [
    "loss, accuracy = model.evaluate(X_test, y_test)\n",
    "print('Accuracy of the DNN : %.2f' % (accuracy*100))\n",
    "Classifier_accuracy.append(accuracy*100)"
   ]
  },
  {
   "cell_type": "markdown",
   "id": "d88dd41c",
   "metadata": {},
   "source": [
    "#### K-Nearest Neighbor Classifier"
   ]
  },
  {
   "cell_type": "code",
   "execution_count": 26,
   "id": "2c3ce023",
   "metadata": {},
   "outputs": [
    {
     "name": "stdout",
     "output_type": "stream",
     "text": [
      "Accuracy of the KNN Classifier : 96.69\n"
     ]
    }
   ],
   "source": [
    "knn_clf = KNeighborsClassifier()\n",
    "knn_clf.fit(X_train, y_train)\n",
    "y_pred = knn_clf.predict(X_test)\n",
    "accuracy = metrics.accuracy_score(y_test, y_pred)\n",
    "print(\"Accuracy of the KNN Classifier : %.2f\" % (accuracy*100))\n",
    "Classifier_accuracy.append(accuracy*100)"
   ]
  },
  {
   "cell_type": "markdown",
   "id": "67b6315c",
   "metadata": {},
   "source": [
    "#### SVM Classifier"
   ]
  },
  {
   "cell_type": "code",
   "execution_count": 27,
   "id": "2bf804fe",
   "metadata": {},
   "outputs": [
    {
     "name": "stdout",
     "output_type": "stream",
     "text": [
      "Accuracy of the SVM Classifier : 97.31\n"
     ]
    }
   ],
   "source": [
    "svc_clf = SVC() \n",
    "svc_clf.fit(X_train,y_train)\n",
    "y_pred = svc_clf.predict(X_test)\n",
    "accuracy = metrics.accuracy_score(y_test, y_pred)\n",
    "print(\"Accuracy of the SVM Classifier : %.2f\" % (accuracy*100) )\n",
    "Classifier_accuracy.append(accuracy*100)"
   ]
  },
  {
   "cell_type": "markdown",
   "id": "a75661ce",
   "metadata": {},
   "source": [
    "#### Decision Tree Classifier"
   ]
  },
  {
   "cell_type": "code",
   "execution_count": 28,
   "id": "aef7849b",
   "metadata": {},
   "outputs": [
    {
     "name": "stdout",
     "output_type": "stream",
     "text": [
      "Accuracy of the Decision Tree Classifier : 96.47\n"
     ]
    }
   ],
   "source": [
    "dt_clf = DecisionTreeClassifier(max_depth=5)\n",
    "dt_clf.fit(X_train,y_train)\n",
    "y_pred = dt_clf.predict(X_test)\n",
    "accuracy = metrics.accuracy_score(y_test, y_pred)\n",
    "print(\"Accuracy of the Decision Tree Classifier : %.2f\" % (accuracy*100) )\n",
    "Classifier_accuracy.append(accuracy*100)"
   ]
  },
  {
   "cell_type": "markdown",
   "id": "deb07ecf",
   "metadata": {},
   "source": [
    "#### Stochastic Gradient Classifier"
   ]
  },
  {
   "cell_type": "code",
   "execution_count": 29,
   "id": "7a11d953",
   "metadata": {},
   "outputs": [
    {
     "name": "stdout",
     "output_type": "stream",
     "text": [
      "Accuracy of the SGD Classifier : 83.09\n"
     ]
    }
   ],
   "source": [
    "sgd_clf=SGDClassifier(loss=\"hinge\", penalty=\"l2\")\n",
    "sgd_clf.fit(X_train,y_train)\n",
    "y_pred=sgd_clf.predict(X_test)\n",
    "accuracy = metrics.accuracy_score(y_test, y_pred)\n",
    "print(\"Accuracy of the SGD Classifier : %.2f\" % (accuracy*100))\n",
    "Classifier_accuracy.append(accuracy*100)"
   ]
  },
  {
   "cell_type": "markdown",
   "id": "4b232f73",
   "metadata": {},
   "source": [
    "#### XGBoost Classifier"
   ]
  },
  {
   "cell_type": "code",
   "execution_count": 30,
   "id": "e230bd24",
   "metadata": {},
   "outputs": [
    {
     "name": "stdout",
     "output_type": "stream",
     "text": [
      "Accuracy of the XGBoost Classifier : 98.07\n"
     ]
    }
   ],
   "source": [
    "xgb_clf=xgb.XGBClassifier(eval_metric = 'error',objective='binary:logistic',max_depth=2, learning_rate=0.1)\n",
    "xgb_clf.fit(X_train,y_train)\n",
    "y_pred=xgb_clf.predict(X_test)\n",
    "accuracy = metrics.accuracy_score(y_test, y_pred)\n",
    "print(\"Accuracy of the XGBoost Classifier : %.2f\" % (accuracy*100))\n",
    "Classifier_accuracy.append(accuracy*100)"
   ]
  },
  {
   "cell_type": "markdown",
   "id": "5ff0a797",
   "metadata": {},
   "source": [
    "#### Save the model"
   ]
  },
  {
   "cell_type": "code",
   "execution_count": 31,
   "id": "b0df862c",
   "metadata": {},
   "outputs": [],
   "source": [
    "model.save(\"DNN_model.keras\")"
   ]
  },
  {
   "cell_type": "code",
   "execution_count": 32,
   "id": "101ecf97",
   "metadata": {},
   "outputs": [],
   "source": [
    "# Load the model\n",
    "loaded_model = tf.keras.models.load_model(\"DNN_model.keras\")"
   ]
  },
  {
   "cell_type": "markdown",
   "id": "62b99adc",
   "metadata": {},
   "source": [
    "#### Model predictions"
   ]
  },
  {
   "cell_type": "code",
   "execution_count": 33,
   "id": "f09f6745",
   "metadata": {},
   "outputs": [
    {
     "name": "stdout",
     "output_type": "stream",
     "text": [
      "\u001b[1m974/974\u001b[0m \u001b[32m━━━━━━━━━━━━━━━━━━━━\u001b[0m\u001b[37m\u001b[0m \u001b[1m1s\u001b[0m 549us/step\n",
      "              precision    recall  f1-score   support\n",
      "\n",
      "      benign       1.00      0.99      0.99     18908\n",
      "      malign       0.98      1.00      0.99     12244\n",
      "\n",
      "    accuracy                           0.99     31152\n",
      "   macro avg       0.99      0.99      0.99     31152\n",
      "weighted avg       0.99      0.99      0.99     31152\n",
      "\n"
     ]
    }
   ],
   "source": [
    "classes = model.predict(X_test)\n",
    "y_pred = []\n",
    "for i in classes:\n",
    "    if i > 0.5:\n",
    "        y_pred.append(1)\n",
    "    else:\n",
    "        y_pred.append(0)\n",
    "labels = ['benign','malign']\n",
    "print(classification_report(y_test, y_pred, target_names = labels))"
   ]
  }
 ],
 "metadata": {
  "kernelspec": {
   "display_name": "Python 3",
   "language": "python",
   "name": "python3"
  },
  "language_info": {
   "codemirror_mode": {
    "name": "ipython",
    "version": 3
   },
   "file_extension": ".py",
   "mimetype": "text/x-python",
   "name": "python",
   "nbconvert_exporter": "python",
   "pygments_lexer": "ipython3",
   "version": "3.11.8"
  }
 },
 "nbformat": 4,
 "nbformat_minor": 5
}
